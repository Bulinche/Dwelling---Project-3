{
 "cells": [
  {
   "cell_type": "code",
   "execution_count": 2,
   "metadata": {},
   "outputs": [],
   "source": [
    "import pandas as pd \n"
   ]
  },
  {
   "cell_type": "code",
   "execution_count": 26,
   "metadata": {},
   "outputs": [],
   "source": [
    "population = pd.read_csv(\"/Users/omarkreidieh/Documents/GitHub/Dwelling---Project-3/NJ - City Demographics - Final-DESKTOP-1OEA6KF.csv\")\n",
    "population\n",
    "\n",
    "citi_muni = pd.read_csv(\"/Users/omarkreidieh/Documents/GitHub/Dwelling---Project-3/ZipCodeCities/city_muni.csv\")\n",
    "citi_muni = citi_muni[['City', 'Municipality', 'Muni Code']]\n",
    "\n",
    "merged_data = pd.merge(left=citi_muni, right=population,how = 'right',  on = \"City\")\n",
    "pd.set_option('display.max_rows', 500)\n",
    "pd.set_option('display.max_columns', 500)\n",
    "pd.set_option('display.width', 1000)\n",
    "merged_data\n",
    "\n",
    "merged_data = merged_data [['City', 'Municipality', 'Muni Code', 'Persons 65 years and over, percent', 'Female persons, percent','White alone, percent', 'Black or African American alone, percent', 'Foreign born persons, percent, 2014-2018', 'Owner-occupied housing unit rate, 2014-2018', 'Median selected monthly owner costs -with a mortgage, 2014-2018', 'Median selected monthly owner costs -without a mortgage, 2014-2018', 'Median gross rent, 2014-2018', 'Persons per household, 2014-2018', 'Language other than English spoken at home, percent of persons age 5 years+, 2014-2018', 'Households with a computer, percent, 2014-2018', 'High school graduate or higher, percent of persons age 25 years+, 2014-2018', \"Bachelor's degree or higher, percent of persons age 25 years+, 2014-2018\", \"With a disability, under age 65 years, percent, 2014-2018\", \"In civilian labor force, female, percent of population age 16 years+, 2014-2018\", \"Mean travel time to work (minutes), workers age 16 years+, 2014-2018\", \"Median household income (in 2018 dollars), 2014-2018\", \"Persons in poverty, percent\", \"All firms, 2012\", \"Population per square mile, 2010\"]]\n",
    "merged_data = merged_data.dropna()\n",
    "merged_data.to_csv('demographic_data_to_Municipality.csv', index=False,) \n"
   ]
  },
  {
   "cell_type": "code",
   "execution_count": null,
   "metadata": {},
   "outputs": [],
   "source": []
  }
 ],
 "metadata": {
  "kernelspec": {
   "display_name": "Python 3",
   "language": "python",
   "name": "python3"
  },
  "language_info": {
   "codemirror_mode": {
    "name": "ipython",
    "version": 3
   },
   "file_extension": ".py",
   "mimetype": "text/x-python",
   "name": "python",
   "nbconvert_exporter": "python",
   "pygments_lexer": "ipython3",
   "version": "3.6.8"
  }
 },
 "nbformat": 4,
 "nbformat_minor": 2
}
