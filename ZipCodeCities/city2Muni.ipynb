{
 "cells": [
  {
   "cell_type": "code",
   "execution_count": 5,
   "metadata": {},
   "outputs": [],
   "source": [
    "import pandas as pd\n",
    "import numpy as np"
   ]
  },
  {
   "cell_type": "code",
   "execution_count": 7,
   "metadata": {
    "scrolled": true
   },
   "outputs": [],
   "source": [
    "df = pd.read_csv(\"city_muni.csv\")"
   ]
  },
  {
   "cell_type": "code",
   "execution_count": 8,
   "metadata": {
    "scrolled": true
   },
   "outputs": [
    {
     "data": {
      "text/html": [
       "<div>\n",
       "<style scoped>\n",
       "    .dataframe tbody tr th:only-of-type {\n",
       "        vertical-align: middle;\n",
       "    }\n",
       "\n",
       "    .dataframe tbody tr th {\n",
       "        vertical-align: top;\n",
       "    }\n",
       "\n",
       "    .dataframe thead th {\n",
       "        text-align: right;\n",
       "    }\n",
       "</style>\n",
       "<table border=\"1\" class=\"dataframe\">\n",
       "  <thead>\n",
       "    <tr style=\"text-align: right;\">\n",
       "      <th></th>\n",
       "      <th>City</th>\n",
       "      <th>Zip Code</th>\n",
       "      <th>County</th>\n",
       "      <th>Latitude</th>\n",
       "      <th>Longitude</th>\n",
       "      <th>Municipality</th>\n",
       "      <th>Muni Code</th>\n",
       "    </tr>\n",
       "  </thead>\n",
       "  <tbody>\n",
       "    <tr>\n",
       "      <td>0</td>\n",
       "      <td>Absecon</td>\n",
       "      <td>8201</td>\n",
       "      <td>Atlantic</td>\n",
       "      <td>39.457517</td>\n",
       "      <td>-74.509140</td>\n",
       "      <td>Absecon</td>\n",
       "      <td>101</td>\n",
       "    </tr>\n",
       "    <tr>\n",
       "      <td>1</td>\n",
       "      <td>Atlantic City</td>\n",
       "      <td>8401</td>\n",
       "      <td>Atlantic</td>\n",
       "      <td>39.364966</td>\n",
       "      <td>-74.439030</td>\n",
       "      <td>Atlantic City</td>\n",
       "      <td>102</td>\n",
       "    </tr>\n",
       "    <tr>\n",
       "      <td>2</td>\n",
       "      <td>Brigantine</td>\n",
       "      <td>8203</td>\n",
       "      <td>Atlantic</td>\n",
       "      <td>39.401801</td>\n",
       "      <td>-74.380170</td>\n",
       "      <td>Brigantine</td>\n",
       "      <td>103</td>\n",
       "    </tr>\n",
       "    <tr>\n",
       "      <td>3</td>\n",
       "      <td>Buena</td>\n",
       "      <td>8310</td>\n",
       "      <td>Atlantic</td>\n",
       "      <td>39.522686</td>\n",
       "      <td>-74.896840</td>\n",
       "      <td>Buena Borough</td>\n",
       "      <td>104</td>\n",
       "    </tr>\n",
       "    <tr>\n",
       "      <td>4</td>\n",
       "      <td>Cologne</td>\n",
       "      <td>8213</td>\n",
       "      <td>Atlantic</td>\n",
       "      <td>39.509208</td>\n",
       "      <td>-74.608557</td>\n",
       "      <td>Galloway Township</td>\n",
       "      <td>111</td>\n",
       "    </tr>\n",
       "    <tr>\n",
       "      <td>...</td>\n",
       "      <td>...</td>\n",
       "      <td>...</td>\n",
       "      <td>...</td>\n",
       "      <td>...</td>\n",
       "      <td>...</td>\n",
       "      <td>...</td>\n",
       "      <td>...</td>\n",
       "    </tr>\n",
       "    <tr>\n",
       "      <td>578</td>\n",
       "      <td>Phillipsburg</td>\n",
       "      <td>8865</td>\n",
       "      <td>Warren</td>\n",
       "      <td>40.689123</td>\n",
       "      <td>-75.172430</td>\n",
       "      <td>Phillipsburg</td>\n",
       "      <td>2119</td>\n",
       "    </tr>\n",
       "    <tr>\n",
       "      <td>579</td>\n",
       "      <td>Port Murray</td>\n",
       "      <td>7865</td>\n",
       "      <td>Warren</td>\n",
       "      <td>40.783175</td>\n",
       "      <td>-74.909340</td>\n",
       "      <td>Mansfield Township</td>\n",
       "      <td>2116</td>\n",
       "    </tr>\n",
       "    <tr>\n",
       "      <td>580</td>\n",
       "      <td>Stewartsville</td>\n",
       "      <td>8886</td>\n",
       "      <td>Warren</td>\n",
       "      <td>40.694938</td>\n",
       "      <td>-75.111810</td>\n",
       "      <td>Greenwich Township</td>\n",
       "      <td>2107</td>\n",
       "    </tr>\n",
       "    <tr>\n",
       "      <td>581</td>\n",
       "      <td>Vienna</td>\n",
       "      <td>7880</td>\n",
       "      <td>Warren</td>\n",
       "      <td>40.864844</td>\n",
       "      <td>-74.897002</td>\n",
       "      <td>Independence Township</td>\n",
       "      <td>2112</td>\n",
       "    </tr>\n",
       "    <tr>\n",
       "      <td>582</td>\n",
       "      <td>Washington</td>\n",
       "      <td>7882</td>\n",
       "      <td>Warren</td>\n",
       "      <td>40.753753</td>\n",
       "      <td>-74.996170</td>\n",
       "      <td>Washington Borough</td>\n",
       "      <td>2121</td>\n",
       "    </tr>\n",
       "  </tbody>\n",
       "</table>\n",
       "<p>583 rows × 7 columns</p>\n",
       "</div>"
      ],
      "text/plain": [
       "              City  Zip Code    County   Latitude  Longitude  \\\n",
       "0          Absecon      8201  Atlantic  39.457517 -74.509140   \n",
       "1    Atlantic City      8401  Atlantic  39.364966 -74.439030   \n",
       "2       Brigantine      8203  Atlantic  39.401801 -74.380170   \n",
       "3            Buena      8310  Atlantic  39.522686 -74.896840   \n",
       "4          Cologne      8213  Atlantic  39.509208 -74.608557   \n",
       "..             ...       ...       ...        ...        ...   \n",
       "578   Phillipsburg      8865    Warren  40.689123 -75.172430   \n",
       "579    Port Murray      7865    Warren  40.783175 -74.909340   \n",
       "580  Stewartsville      8886    Warren  40.694938 -75.111810   \n",
       "581         Vienna      7880    Warren  40.864844 -74.897002   \n",
       "582     Washington      7882    Warren  40.753753 -74.996170   \n",
       "\n",
       "              Municipality  Muni Code  \n",
       "0                  Absecon        101  \n",
       "1            Atlantic City        102  \n",
       "2               Brigantine        103  \n",
       "3            Buena Borough        104  \n",
       "4        Galloway Township        111  \n",
       "..                     ...        ...  \n",
       "578           Phillipsburg       2119  \n",
       "579     Mansfield Township       2116  \n",
       "580     Greenwich Township       2107  \n",
       "581  Independence Township       2112  \n",
       "582     Washington Borough       2121  \n",
       "\n",
       "[583 rows x 7 columns]"
      ]
     },
     "execution_count": 8,
     "metadata": {},
     "output_type": "execute_result"
    }
   ],
   "source": [
    "df"
   ]
  },
  {
   "cell_type": "code",
   "execution_count": 14,
   "metadata": {},
   "outputs": [
    {
     "data": {
      "text/plain": [
       "'Buena Borough'"
      ]
     },
     "execution_count": 14,
     "metadata": {},
     "output_type": "execute_result"
    }
   ],
   "source": [
    "df[df[\"City\"] == \"Buena\"][\"Municipality\"].to_string(index=False).strip()"
   ]
  },
  {
   "cell_type": "code",
   "execution_count": null,
   "metadata": {},
   "outputs": [],
   "source": []
  }
 ],
 "metadata": {
  "kernelspec": {
   "display_name": "Python 3",
   "language": "python",
   "name": "python3"
  },
  "language_info": {
   "codemirror_mode": {
    "name": "ipython",
    "version": 3
   },
   "file_extension": ".py",
   "mimetype": "text/x-python",
   "name": "python",
   "nbconvert_exporter": "python",
   "pygments_lexer": "ipython3",
   "version": "3.7.4"
  }
 },
 "nbformat": 4,
 "nbformat_minor": 2
}
