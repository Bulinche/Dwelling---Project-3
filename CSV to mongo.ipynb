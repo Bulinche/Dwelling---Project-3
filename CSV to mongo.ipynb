{
 "cells": [
  {
   "cell_type": "code",
   "execution_count": 4,
   "metadata": {},
   "outputs": [],
   "source": [
    "import pandas as pd\n",
    "import pymongo\n",
    "\n",
    "\n",
    "\n",
    "def export_content(filepath, collection):\n",
    "    client = pymongo.MongoClient('localhost', 27017)\n",
    "    db = client.Dwelling_db \n",
    "    Collection = db[collection]\n",
    "    data = pd.read_csv(filepath)\n",
    "    records_ = data.to_dict(orient = 'records')\n",
    "    Collection.insert_many(records_)\n"
   ]
  },
  {
   "cell_type": "code",
   "execution_count": 7,
   "metadata": {},
   "outputs": [],
   "source": [
    "def clearDB():\n",
    "    client = pymongo.MongoClient('localhost', 27017)\n",
    "    db = client.Dwelling_db \n",
    "    db[\"Bus_stops\"].drop()\n",
    "    db[\"Rail_stops\"].drop()\n",
    "    db[\"city_lat_lon\"].drop()\n",
    "    db[\"collection\"].drop()\n",
    "    db[\"high_school\"].drop()\n",
    "    db[\"realestate_listings\"].drop()\n",
    "    db[\"WalkScore\"].drop()\n",
    "    db[\"city_lat_lon\"].drop()"
   ]
  },
  {
   "cell_type": "code",
   "execution_count": 8,
   "metadata": {
    "scrolled": true
   },
   "outputs": [],
   "source": [
    "# Create list of filepaths and the collection they will need to be imported to \n",
    "clearDB();\n",
    "Directories= [{'filepath': './WebInterface/static/data/SchoolRankings/SchoolsData/elementary_df.csv', 'collection': 'elementary'}, {'filepath': './WebInterface/static/data/SchoolRankings/SchoolsData/high_school_df.csv', 'collection': 'high_school'}, {'filepath': './House Data/houses_df.csv', 'collection':'realestate_listings' }, {'filepath': './NJ Transit Data/bus_stops_with_city.csv', 'collection': 'Bus_stops'}, {'filepath': './NJ Transit Data/rail_stops_with_city.csv', 'collection': 'Rail_stops'}, {'filepath': './WalkScore/walkability.csv', 'collection': 'WalkScore'}, {'filepath': './ZipCodeCities/city_lat_lon.csv', 'collection':'city_lat_lon' } ]\n",
    "for dictionary in Directories:\n",
    "    filepath = dictionary['filepath']\n",
    "    collection = dictionary['collection']\n",
    "\n",
    "    export_content(filepath, collection)"
   ]
  },
  {
   "cell_type": "code",
   "execution_count": 8,
   "metadata": {},
   "outputs": [],
   "source": []
  },
  {
   "cell_type": "code",
   "execution_count": 12,
   "metadata": {},
   "outputs": [],
   "source": []
  },
  {
   "cell_type": "code",
   "execution_count": null,
   "metadata": {},
   "outputs": [],
   "source": []
  },
  {
   "cell_type": "code",
   "execution_count": null,
   "metadata": {},
   "outputs": [],
   "source": []
  },
  {
   "cell_type": "code",
   "execution_count": null,
   "metadata": {},
   "outputs": [],
   "source": []
  },
  {
   "cell_type": "code",
   "execution_count": null,
   "metadata": {},
   "outputs": [],
   "source": []
  }
 ],
 "metadata": {
  "kernelspec": {
   "display_name": "Python 3",
   "language": "python",
   "name": "python3"
  },
  "language_info": {
   "codemirror_mode": {
    "name": "ipython",
    "version": 3
   },
   "file_extension": ".py",
   "mimetype": "text/x-python",
   "name": "python",
   "nbconvert_exporter": "python",
   "pygments_lexer": "ipython3",
   "version": "3.7.4"
  }
 },
 "nbformat": 4,
 "nbformat_minor": 2
}
