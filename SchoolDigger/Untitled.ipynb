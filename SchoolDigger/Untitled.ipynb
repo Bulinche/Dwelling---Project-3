{
 "cells": [
  {
   "cell_type": "code",
   "execution_count": 8,
   "metadata": {},
   "outputs": [],
   "source": [
    "import pandas as pd"
   ]
  },
  {
   "cell_type": "code",
   "execution_count": 9,
   "metadata": {},
   "outputs": [],
   "source": [
    "edu_df = pd.read_csv(\"eduSliderMuniID.csv\")"
   ]
  },
  {
   "cell_type": "code",
   "execution_count": 10,
   "metadata": {},
   "outputs": [
    {
     "data": {
      "text/plain": [
       "Rank              int64\n",
       "School           object\n",
       "Address          object\n",
       "City             object\n",
       "Municipal ID      int64\n",
       "Zip               int64\n",
       "District         object\n",
       "Full_Address     object\n",
       "Latitude        float64\n",
       "Longitude       float64\n",
       "EduScore          int64\n",
       "dtype: object"
      ]
     },
     "execution_count": 10,
     "metadata": {},
     "output_type": "execute_result"
    }
   ],
   "source": [
    "edu_df.dtypes\n"
   ]
  },
  {
   "cell_type": "code",
   "execution_count": 13,
   "metadata": {},
   "outputs": [
    {
     "data": {
      "text/html": [
       "<div>\n",
       "<style scoped>\n",
       "    .dataframe tbody tr th:only-of-type {\n",
       "        vertical-align: middle;\n",
       "    }\n",
       "\n",
       "    .dataframe tbody tr th {\n",
       "        vertical-align: top;\n",
       "    }\n",
       "\n",
       "    .dataframe thead th {\n",
       "        text-align: right;\n",
       "    }\n",
       "</style>\n",
       "<table border=\"1\" class=\"dataframe\">\n",
       "  <thead>\n",
       "    <tr style=\"text-align: right;\">\n",
       "      <th></th>\n",
       "      <th>Rank</th>\n",
       "      <th>Zip</th>\n",
       "      <th>Latitude</th>\n",
       "      <th>Longitude</th>\n",
       "      <th>EduScore</th>\n",
       "    </tr>\n",
       "    <tr>\n",
       "      <th>Municipal ID</th>\n",
       "      <th></th>\n",
       "      <th></th>\n",
       "      <th></th>\n",
       "      <th></th>\n",
       "      <th></th>\n",
       "    </tr>\n",
       "  </thead>\n",
       "  <tbody>\n",
       "    <tr>\n",
       "      <td>101</td>\n",
       "      <td>9.0</td>\n",
       "      <td>8106.0</td>\n",
       "      <td>39.884485</td>\n",
       "      <td>-75.075760</td>\n",
       "      <td>254.0</td>\n",
       "    </tr>\n",
       "    <tr>\n",
       "      <td>102</td>\n",
       "      <td>8.0</td>\n",
       "      <td>8401.0</td>\n",
       "      <td>39.366993</td>\n",
       "      <td>-74.477057</td>\n",
       "      <td>74.0</td>\n",
       "    </tr>\n",
       "    <tr>\n",
       "      <td>104</td>\n",
       "      <td>32.0</td>\n",
       "      <td>8310.0</td>\n",
       "      <td>39.536387</td>\n",
       "      <td>-74.918776</td>\n",
       "      <td>130.0</td>\n",
       "    </tr>\n",
       "    <tr>\n",
       "      <td>107</td>\n",
       "      <td>85.0</td>\n",
       "      <td>8215.0</td>\n",
       "      <td>39.551762</td>\n",
       "      <td>-74.628038</td>\n",
       "      <td>200.0</td>\n",
       "    </tr>\n",
       "    <tr>\n",
       "      <td>108</td>\n",
       "      <td>86.0</td>\n",
       "      <td>8234.0</td>\n",
       "      <td>39.394775</td>\n",
       "      <td>-74.628515</td>\n",
       "      <td>292.0</td>\n",
       "    </tr>\n",
       "    <tr>\n",
       "      <td>...</td>\n",
       "      <td>...</td>\n",
       "      <td>...</td>\n",
       "      <td>...</td>\n",
       "      <td>...</td>\n",
       "      <td>...</td>\n",
       "    </tr>\n",
       "    <tr>\n",
       "      <td>2103</td>\n",
       "      <td>15.0</td>\n",
       "      <td>7823.0</td>\n",
       "      <td>40.824932</td>\n",
       "      <td>-75.066663</td>\n",
       "      <td>228.0</td>\n",
       "    </tr>\n",
       "    <tr>\n",
       "      <td>2104</td>\n",
       "      <td>20.0</td>\n",
       "      <td>7825.0</td>\n",
       "      <td>40.981884</td>\n",
       "      <td>-74.990800</td>\n",
       "      <td>256.0</td>\n",
       "    </tr>\n",
       "    <tr>\n",
       "      <td>2108</td>\n",
       "      <td>122.0</td>\n",
       "      <td>7840.0</td>\n",
       "      <td>40.843186</td>\n",
       "      <td>-74.830174</td>\n",
       "      <td>339.0</td>\n",
       "    </tr>\n",
       "    <tr>\n",
       "      <td>2119</td>\n",
       "      <td>298.0</td>\n",
       "      <td>8865.0</td>\n",
       "      <td>40.714597</td>\n",
       "      <td>-75.183210</td>\n",
       "      <td>296.0</td>\n",
       "    </tr>\n",
       "    <tr>\n",
       "      <td>2121</td>\n",
       "      <td>386.5</td>\n",
       "      <td>7882.0</td>\n",
       "      <td>40.758227</td>\n",
       "      <td>-75.003997</td>\n",
       "      <td>194.5</td>\n",
       "    </tr>\n",
       "  </tbody>\n",
       "</table>\n",
       "<p>282 rows × 5 columns</p>\n",
       "</div>"
      ],
      "text/plain": [
       "               Rank     Zip   Latitude  Longitude  EduScore\n",
       "Municipal ID                                               \n",
       "101             9.0  8106.0  39.884485 -75.075760     254.0\n",
       "102             8.0  8401.0  39.366993 -74.477057      74.0\n",
       "104            32.0  8310.0  39.536387 -74.918776     130.0\n",
       "107            85.0  8215.0  39.551762 -74.628038     200.0\n",
       "108            86.0  8234.0  39.394775 -74.628515     292.0\n",
       "...             ...     ...        ...        ...       ...\n",
       "2103           15.0  7823.0  40.824932 -75.066663     228.0\n",
       "2104           20.0  7825.0  40.981884 -74.990800     256.0\n",
       "2108          122.0  7840.0  40.843186 -74.830174     339.0\n",
       "2119          298.0  8865.0  40.714597 -75.183210     296.0\n",
       "2121          386.5  7882.0  40.758227 -75.003997     194.5\n",
       "\n",
       "[282 rows x 5 columns]"
      ]
     },
     "execution_count": 13,
     "metadata": {},
     "output_type": "execute_result"
    }
   ],
   "source": [
    "muniEDU = pd.DataFrame(edu_df.groupby('Municipal ID').mean())\n",
    "muniEDU"
   ]
  },
  {
   "cell_type": "code",
   "execution_count": 15,
   "metadata": {},
   "outputs": [],
   "source": [
    "muniEDU.to_csv(\"MuniEduScaled.csv\")"
   ]
  },
  {
   "cell_type": "code",
   "execution_count": null,
   "metadata": {},
   "outputs": [],
   "source": []
  }
 ],
 "metadata": {
  "kernelspec": {
   "display_name": "Python 3",
   "language": "python",
   "name": "python3"
  },
  "language_info": {
   "codemirror_mode": {
    "name": "ipython",
    "version": 3
   },
   "file_extension": ".py",
   "mimetype": "text/x-python",
   "name": "python",
   "nbconvert_exporter": "python",
   "pygments_lexer": "ipython3",
   "version": "3.7.4"
  }
 },
 "nbformat": 4,
 "nbformat_minor": 2
}
